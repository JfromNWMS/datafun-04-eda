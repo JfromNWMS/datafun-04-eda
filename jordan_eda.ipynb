{
 "cells": [
  {
   "cell_type": "markdown",
   "id": "3a421a39",
   "metadata": {},
   "source": [
    "# Jordan Notebook - Peach Tree Analytics\n",
    "\n",
    "- Author: [Jordan](https://github.com/JfromNWMS/)\n",
    "- Repository: [pro-analytics-01](https://github.com/JfromNWMS/pro-analytics-01)"
   ]
  },
  {
   "cell_type": "code",
   "execution_count": 9,
   "id": "23a2a79a",
   "metadata": {},
   "outputs": [],
   "source": [
    "import pandas as pd\n",
    "import seaborn as sns\n",
    "import matplotlib.pyplot as plt\n",
    "from get_csv import fetch_csv_file\n",
    "\n"
   ]
  },
  {
   "cell_type": "code",
   "execution_count": 10,
   "id": "04ee839f",
   "metadata": {},
   "outputs": [
    {
     "name": "stderr",
     "output_type": "stream",
     "text": [
      "\u001b[32m2025-05-20 18:17:46.328\u001b[0m | \u001b[1mINFO    \u001b[0m | \u001b[36mget_csv\u001b[0m:\u001b[36mfetch_csv_file\u001b[0m:\u001b[36m56\u001b[0m - \u001b[1mFetching CSV data from https://raw.githubusercontent.com/araastat/BIOF085/master/data/mtcars.csv...\u001b[0m\n",
      "\u001b[32m2025-05-20 18:17:46.365\u001b[0m | \u001b[1mINFO    \u001b[0m | \u001b[36mget_csv\u001b[0m:\u001b[36mwrite_csv_file\u001b[0m:\u001b[36m80\u001b[0m - \u001b[1mWriting CSV data to data\\mtcars.csv...\u001b[0m\n",
      "\u001b[32m2025-05-20 18:17:46.366\u001b[0m | \u001b[1mINFO    \u001b[0m | \u001b[36mget_csv\u001b[0m:\u001b[36mwrite_csv_file\u001b[0m:\u001b[36m84\u001b[0m - \u001b[1mSUCCESS: CSV data written to data\\mtcars.csv\u001b[0m\n",
      "\u001b[32m2025-05-20 18:17:46.367\u001b[0m | \u001b[1mINFO    \u001b[0m | \u001b[36mget_csv\u001b[0m:\u001b[36mfetch_csv_file\u001b[0m:\u001b[36m60\u001b[0m - \u001b[1mSUCCESS: CSV file fetched and saved as mtcars.csv\u001b[0m\n"
     ]
    }
   ],
   "source": [
    "fetch_csv_file('data','mtcars.csv','https://raw.githubusercontent.com/araastat/BIOF085/master/data/mtcars.csv')"
   ]
  },
  {
   "cell_type": "code",
   "execution_count": 11,
   "id": "6f163fdf",
   "metadata": {},
   "outputs": [
    {
     "data": {
      "text/html": [
       "<div>\n",
       "<style scoped>\n",
       "    .dataframe tbody tr th:only-of-type {\n",
       "        vertical-align: middle;\n",
       "    }\n",
       "\n",
       "    .dataframe tbody tr th {\n",
       "        vertical-align: top;\n",
       "    }\n",
       "\n",
       "    .dataframe thead th {\n",
       "        text-align: right;\n",
       "    }\n",
       "</style>\n",
       "<table border=\"1\" class=\"dataframe\">\n",
       "  <thead>\n",
       "    <tr style=\"text-align: right;\">\n",
       "      <th></th>\n",
       "      <th>mpg</th>\n",
       "      <th>cyl</th>\n",
       "      <th>disp</th>\n",
       "      <th>hp</th>\n",
       "      <th>drat</th>\n",
       "      <th>wt</th>\n",
       "      <th>qsec</th>\n",
       "      <th>vs</th>\n",
       "      <th>am</th>\n",
       "      <th>gear</th>\n",
       "      <th>carb</th>\n",
       "    </tr>\n",
       "    <tr>\n",
       "      <th>make</th>\n",
       "      <th></th>\n",
       "      <th></th>\n",
       "      <th></th>\n",
       "      <th></th>\n",
       "      <th></th>\n",
       "      <th></th>\n",
       "      <th></th>\n",
       "      <th></th>\n",
       "      <th></th>\n",
       "      <th></th>\n",
       "      <th></th>\n",
       "    </tr>\n",
       "  </thead>\n",
       "  <tbody>\n",
       "    <tr>\n",
       "      <th>Mazda RX4</th>\n",
       "      <td>21.0</td>\n",
       "      <td>6</td>\n",
       "      <td>160.0</td>\n",
       "      <td>110</td>\n",
       "      <td>3.90</td>\n",
       "      <td>2.620</td>\n",
       "      <td>16.46</td>\n",
       "      <td>0</td>\n",
       "      <td>1</td>\n",
       "      <td>4</td>\n",
       "      <td>4</td>\n",
       "    </tr>\n",
       "    <tr>\n",
       "      <th>Mazda RX4 Wag</th>\n",
       "      <td>21.0</td>\n",
       "      <td>6</td>\n",
       "      <td>160.0</td>\n",
       "      <td>110</td>\n",
       "      <td>3.90</td>\n",
       "      <td>2.875</td>\n",
       "      <td>17.02</td>\n",
       "      <td>0</td>\n",
       "      <td>1</td>\n",
       "      <td>4</td>\n",
       "      <td>4</td>\n",
       "    </tr>\n",
       "    <tr>\n",
       "      <th>Datsun 710</th>\n",
       "      <td>22.8</td>\n",
       "      <td>4</td>\n",
       "      <td>108.0</td>\n",
       "      <td>93</td>\n",
       "      <td>3.85</td>\n",
       "      <td>2.320</td>\n",
       "      <td>18.61</td>\n",
       "      <td>1</td>\n",
       "      <td>1</td>\n",
       "      <td>4</td>\n",
       "      <td>1</td>\n",
       "    </tr>\n",
       "    <tr>\n",
       "      <th>Hornet 4 Drive</th>\n",
       "      <td>21.4</td>\n",
       "      <td>6</td>\n",
       "      <td>258.0</td>\n",
       "      <td>110</td>\n",
       "      <td>3.08</td>\n",
       "      <td>3.215</td>\n",
       "      <td>19.44</td>\n",
       "      <td>1</td>\n",
       "      <td>0</td>\n",
       "      <td>3</td>\n",
       "      <td>1</td>\n",
       "    </tr>\n",
       "    <tr>\n",
       "      <th>Hornet Sportabout</th>\n",
       "      <td>18.7</td>\n",
       "      <td>8</td>\n",
       "      <td>360.0</td>\n",
       "      <td>175</td>\n",
       "      <td>3.15</td>\n",
       "      <td>3.440</td>\n",
       "      <td>17.02</td>\n",
       "      <td>0</td>\n",
       "      <td>0</td>\n",
       "      <td>3</td>\n",
       "      <td>2</td>\n",
       "    </tr>\n",
       "  </tbody>\n",
       "</table>\n",
       "</div>"
      ],
      "text/plain": [
       "                    mpg  cyl   disp   hp  drat     wt   qsec  vs  am  gear  \\\n",
       "make                                                                         \n",
       "Mazda RX4          21.0    6  160.0  110  3.90  2.620  16.46   0   1     4   \n",
       "Mazda RX4 Wag      21.0    6  160.0  110  3.90  2.875  17.02   0   1     4   \n",
       "Datsun 710         22.8    4  108.0   93  3.85  2.320  18.61   1   1     4   \n",
       "Hornet 4 Drive     21.4    6  258.0  110  3.08  3.215  19.44   1   0     3   \n",
       "Hornet Sportabout  18.7    8  360.0  175  3.15  3.440  17.02   0   0     3   \n",
       "\n",
       "                   carb  \n",
       "make                     \n",
       "Mazda RX4             4  \n",
       "Mazda RX4 Wag         4  \n",
       "Datsun 710            1  \n",
       "Hornet 4 Drive        1  \n",
       "Hornet Sportabout     2  "
      ]
     },
     "execution_count": 11,
     "metadata": {},
     "output_type": "execute_result"
    }
   ],
   "source": [
    "mtcars = pd.read_csv('data/mtcars.csv', index_col=0)\n",
    "\n",
    "mtcars.head()"
   ]
  },
  {
   "cell_type": "code",
   "execution_count": 12,
   "id": "0beb8de9",
   "metadata": {},
   "outputs": [
    {
     "data": {
      "image/png": "[encoded data removed]",
      "text/plain": [
       "<Figure size 640x480 with 1 Axes>"
      ]
     },
     "metadata": {},
     "output_type": "display_data"
    }
   ],
   "source": [
    "plot_data = pd.DataFrame({\n",
    "    'am': mtcars['am'].replace({0: 'Automatic', 1: 'Manual'}),\n",
    "    'vs': mtcars['vs'].replace({0: 'V Conf.', 1: 'Straight Conf.'}),\n",
    "    'qsec': mtcars['qsec']\n",
    "})\n",
    "\n",
    "a = mtcars['am'].replace({0: 'Automatic', 1: 'Manual'})\n",
    "sns.boxplot(x='am', y='qsec', hue='vs', data=plot_data)\n",
    "plt.show()"
   ]
  },
  {
   "cell_type": "code",
   "execution_count": 39,
   "id": "4b7a0bf2",
   "metadata": {},
   "outputs": [
    {
     "data": {
      "text/plain": [
       "vs\n",
       "0    18\n",
       "1    14\n",
       "Name: count, dtype: int64"
      ]
     },
     "execution_count": 39,
     "metadata": {},
     "output_type": "execute_result"
    },
    {
     "data": {
      "image/png": "[encoded data removed]",
      "text/plain": [
       "<Figure size 640x480 with 1 Axes>"
      ]
     },
     "metadata": {},
     "output_type": "display_data"
    }
   ],
   "source": [
    "mtcars.sort_values(by='qsec')\n",
    "mtcars['qsec'].hist()\n",
    "mtcars['vs'].value_counts()\n",
    "\n"
   ]
  }
 ],
 "metadata": {
  "kernelspec": {
   "display_name": ".venv",
   "language": "python",
   "name": "python3"
  },
  "language_info": {
   "codemirror_mode": {
    "name": "ipython",
    "version": 3
   },
   "file_extension": ".py",
   "mimetype": "text/x-python",
   "name": "python",
   "nbconvert_exporter": "python",
   "pygments_lexer": "ipython3",
   "version": "3.13.3"
  }
 },
 "nbformat": 4,
 "nbformat_minor": 5
}
